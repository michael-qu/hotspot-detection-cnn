{
 "cells": [
  {
   "cell_type": "markdown",
   "metadata": {
    "colab_type": "text",
    "id": "3DR-eO17geWu"
   },
   "source": [
    "# Convolutional Neural Network for Hotspot Detection on ICCAD2012"
   ]
  },
  {
   "cell_type": "markdown",
   "metadata": {
    "colab_type": "text",
    "id": "EMefrVPCg-60"
   },
   "source": [
    "### Importing the libraries"
   ]
  },
  {
   "cell_type": "code",
   "execution_count": 2,
   "metadata": {
    "colab": {},
    "colab_type": "code",
    "id": "sCV30xyVhFbE"
   },
   "outputs": [],
   "source": [
    "import numpy as np\n",
    "import matplotlib.pyplot as plt\n",
    "import matplotlib.image as mpimg\n",
    "import tensorflow as tf\n",
    "from keras.preprocessing.image import ImageDataGenerator\n",
    "from tensorflow.keras.preprocessing import image\n",
    "from IPython.display import Image\n",
    "import time"
   ]
  },
  {
   "cell_type": "code",
   "execution_count": 3,
   "metadata": {
    "colab": {},
    "colab_type": "code",
    "id": "FIleuCAjoFD8"
   },
   "outputs": [
    {
     "data": {
      "text/plain": [
       "'2.9.1'"
      ]
     },
     "execution_count": 3,
     "metadata": {},
     "output_type": "execute_result"
    }
   ],
   "source": [
    "tf.__version__"
   ]
  },
  {
   "cell_type": "markdown",
   "metadata": {},
   "source": [
    "### Global Parameters"
   ]
  },
  {
   "cell_type": "code",
   "execution_count": 4,
   "metadata": {},
   "outputs": [],
   "source": [
    "SIZE = 64\n",
    "# Image Parameters in the future can be added to the channels\n",
    "CHANNELS = 3\n",
    "DROPOUT_RATE = 0.4\n",
    "BATCH_SIZE = 32\n",
    "CLASSES = {'NHS':0, 'HS':1}"
   ]
  },
  {
   "cell_type": "markdown",
   "metadata": {
    "colab_type": "text",
    "id": "oxQxCBWyoGPE"
   },
   "source": [
    "## Part 1 - Data Preprocessing"
   ]
  },
  {
   "cell_type": "markdown",
   "metadata": {
    "colab_type": "text",
    "id": "MvE-heJNo3GG"
   },
   "source": [
    "### Preprocessing the Training set"
   ]
  },
  {
   "cell_type": "code",
   "execution_count": 5,
   "metadata": {
    "colab": {},
    "colab_type": "code",
    "id": "0koUcJMJpEBD"
   },
   "outputs": [
    {
     "name": "stdout",
     "output_type": "stream",
     "text": [
      "Found 439 images belonging to 2 classes.\n"
     ]
    }
   ],
   "source": [
    "# https://www.tensorflow.org/api_docs/python/tf/keras/preprocessing/image/ImageDataGenerator\n",
    "train_datagen = ImageDataGenerator(rescale = 1./255,\n",
    "                                   shear_range = 0.2,\n",
    "                                   zoom_range = 0.2,\n",
    "                                   width_shift_range=0.1,\n",
    "                                   height_shift_range=0.1,\n",
    "                                   horizontal_flip = True,\n",
    "                                   vertical_flip = True)\n",
    "training_set = train_datagen.flow_from_directory(directory = 'iccad1/train',\n",
    "                                                 target_size = (SIZE, SIZE),\n",
    "                                                 batch_size = BATCH_SIZE,\n",
    "                                                 classes = CLASSES,\n",
    "                                                 class_mode = 'binary',\n",
    "                                                 shuffle = True,\n",
    "                                                 seed = 42\n",
    "                                                )"
   ]
  },
  {
   "cell_type": "markdown",
   "metadata": {
    "colab_type": "text",
    "id": "mrCMmGw9pHys"
   },
   "source": [
    "### Preprocessing the Test set"
   ]
  },
  {
   "cell_type": "code",
   "execution_count": 6,
   "metadata": {
    "colab": {},
    "colab_type": "code",
    "id": "SH4WzfOhpKc3"
   },
   "outputs": [
    {
     "name": "stdout",
     "output_type": "stream",
     "text": [
      "Found 4905 images belonging to 2 classes.\n"
     ]
    }
   ],
   "source": [
    "test_datagen = ImageDataGenerator(rescale = 1./255)\n",
    "test_set = test_datagen.flow_from_directory(directory = 'iccad1/test',\n",
    "                                            target_size = (SIZE, SIZE),\n",
    "                                            batch_size = BATCH_SIZE,\n",
    "                                            classes = CLASSES,\n",
    "                                            class_mode = 'binary',\n",
    "                                            shuffle = True,\n",
    "                                            seed = 42\n",
    "                                            )"
   ]
  },
  {
   "cell_type": "markdown",
   "metadata": {
    "colab_type": "text",
    "id": "af8O4l90gk7B"
   },
   "source": [
    "## Part 2 - Building the CNN"
   ]
  },
  {
   "cell_type": "markdown",
   "metadata": {},
   "source": [
    "### Deploy ML model on GPUs using mirrored strategy"
   ]
  },
  {
   "cell_type": "code",
   "execution_count": 43,
   "metadata": {},
   "outputs": [
    {
     "name": "stdout",
     "output_type": "stream",
     "text": [
      "Num GPUs Available:  0\n",
      "Num GPUs Available:  0\n"
     ]
    }
   ],
   "source": [
    "# tensorflow-gpu should be correctly updated, otherwise the strategy will not work\n",
    "print(\"Num GPUs Available: \", len(tf.config.list_physical_devices('GPU')))\n",
    "print(\"Num GPUs Available: \", len(tf.config.experimental.list_physical_devices('GPU')))"
   ]
  },
  {
   "cell_type": "code",
   "execution_count": 14,
   "metadata": {},
   "outputs": [
    {
     "name": "stdout",
     "output_type": "stream",
     "text": [
      "INFO:tensorflow:Using MirroredStrategy with devices ('/job:localhost/replica:0/task:0/device:GPU:0', '/job:localhost/replica:0/task:0/device:GPU:1')\n"
     ]
    }
   ],
   "source": [
    "# The code below may have to be adjusted in different machines.\n",
    "mirrored_strategy = tf.distribute.MirroredStrategy(devices= [\"/gpu:0\",\"/gpu:1\"],\n",
    "                                                   cross_device_ops=tf.distribute.HierarchicalCopyAllReduce())"
   ]
  },
  {
   "cell_type": "code",
   "execution_count": 16,
   "metadata": {
    "colab": {},
    "colab_type": "code",
    "id": "XPzPrMckl-hV"
   },
   "outputs": [
    {
     "name": "stdout",
     "output_type": "stream",
     "text": [
      "INFO:tensorflow:Reduce to /job:localhost/replica:0/task:0/device:CPU:0 then broadcast to ('/job:localhost/replica:0/task:0/device:CPU:0',).\n",
      "INFO:tensorflow:Reduce to /job:localhost/replica:0/task:0/device:CPU:0 then broadcast to ('/job:localhost/replica:0/task:0/device:CPU:0',).\n",
      "INFO:tensorflow:Reduce to /job:localhost/replica:0/task:0/device:CPU:0 then broadcast to ('/job:localhost/replica:0/task:0/device:CPU:0',).\n",
      "INFO:tensorflow:Reduce to /job:localhost/replica:0/task:0/device:CPU:0 then broadcast to ('/job:localhost/replica:0/task:0/device:CPU:0',).\n",
      "INFO:tensorflow:Reduce to /job:localhost/replica:0/task:0/device:CPU:0 then broadcast to ('/job:localhost/replica:0/task:0/device:CPU:0',).\n",
      "INFO:tensorflow:Reduce to /job:localhost/replica:0/task:0/device:CPU:0 then broadcast to ('/job:localhost/replica:0/task:0/device:CPU:0',).\n",
      "INFO:tensorflow:Reduce to /job:localhost/replica:0/task:0/device:CPU:0 then broadcast to ('/job:localhost/replica:0/task:0/device:CPU:0',).\n",
      "INFO:tensorflow:Reduce to /job:localhost/replica:0/task:0/device:CPU:0 then broadcast to ('/job:localhost/replica:0/task:0/device:CPU:0',).\n",
      "INFO:tensorflow:Reduce to /job:localhost/replica:0/task:0/device:CPU:0 then broadcast to ('/job:localhost/replica:0/task:0/device:CPU:0',).\n",
      "INFO:tensorflow:Reduce to /job:localhost/replica:0/task:0/device:CPU:0 then broadcast to ('/job:localhost/replica:0/task:0/device:CPU:0',).\n"
     ]
    }
   ],
   "source": [
    "with mirrored_strategy.scope():\n",
    "    # Initialising the CNN\n",
    "    cnn = tf.keras.models.Sequential()\n",
    "\n",
    "    # Convolutional & Pooling Layers\n",
    "    cnn.add(tf.keras.layers.Conv2D(filters=4, kernel_size=3, activation='relu', input_shape=[SIZE, SIZE, CHANNELS]))\n",
    "    cnn.add(tf.keras.layers.BatchNormalization())\n",
    "    cnn.add(tf.keras.layers.MaxPool2D(pool_size=2, strides=2))\n",
    "\n",
    "    cnn.add(tf.keras.layers.Conv2D(filters=8, kernel_size=3, activation='relu'))\n",
    "    cnn.add(tf.keras.layers.BatchNormalization())\n",
    "    cnn.add(tf.keras.layers.MaxPool2D(pool_size=2, strides=2))\n",
    "\n",
    "    cnn.add(tf.keras.layers.Conv2D(filters=16, kernel_size=3, activation='relu'))\n",
    "    cnn.add(tf.keras.layers.BatchNormalization())\n",
    "    cnn.add(tf.keras.layers.MaxPool2D(pool_size=2, strides=2))\n",
    "\n",
    "    cnn.add(tf.keras.layers.Conv2D(filters=32, kernel_size=3, activation='relu'))\n",
    "    cnn.add(tf.keras.layers.BatchNormalization())\n",
    "    cnn.add(tf.keras.layers.MaxPool2D(pool_size=2, strides=2))\n",
    "\n",
    "    # Flattening\n",
    "    cnn.add(tf.keras.layers.Flatten())\n",
    "\n",
    "    # Full Connection Layers\n",
    "    cnn.add(tf.keras.layers.Dense(units=512, activation='relu'))\n",
    "    cnn.add(tf.keras.layers.Dropout(DROPOUT_RATE))\n",
    "    cnn.add(tf.keras.layers.Dense(units=256, activation='relu'))\n",
    "    cnn.add(tf.keras.layers.Dropout(DROPOUT_RATE))\n",
    "\n",
    "    # Output Layer\n",
    "    cnn.add(tf.keras.layers.Dense(units=1, activation='sigmoid'))\n",
    "    # For multiclass classification, softmax should be used as activation function.\n",
    "    #cnn.add(tf.keras.layers.Dense(units=n, activation='softmax'))"
   ]
  },
  {
   "cell_type": "markdown",
   "metadata": {},
   "source": [
    "### Model Summary"
   ]
  },
  {
   "cell_type": "code",
   "execution_count": 17,
   "metadata": {},
   "outputs": [
    {
     "name": "stdout",
     "output_type": "stream",
     "text": [
      "Model: \"sequential\"\n",
      "_________________________________________________________________\n",
      " Layer (type)                Output Shape              Param #   \n",
      "=================================================================\n",
      " conv2d (Conv2D)             (None, 62, 62, 4)         112       \n",
      "                                                                 \n",
      " batch_normalization (BatchN  (None, 62, 62, 4)        16        \n",
      " ormalization)                                                   \n",
      "                                                                 \n",
      " max_pooling2d (MaxPooling2D  (None, 31, 31, 4)        0         \n",
      " )                                                               \n",
      "                                                                 \n",
      " conv2d_1 (Conv2D)           (None, 29, 29, 8)         296       \n",
      "                                                                 \n",
      " batch_normalization_1 (Batc  (None, 29, 29, 8)        32        \n",
      " hNormalization)                                                 \n",
      "                                                                 \n",
      " max_pooling2d_1 (MaxPooling  (None, 14, 14, 8)        0         \n",
      " 2D)                                                             \n",
      "                                                                 \n",
      " conv2d_2 (Conv2D)           (None, 12, 12, 16)        1168      \n",
      "                                                                 \n",
      " batch_normalization_2 (Batc  (None, 12, 12, 16)       64        \n",
      " hNormalization)                                                 \n",
      "                                                                 \n",
      " max_pooling2d_2 (MaxPooling  (None, 6, 6, 16)         0         \n",
      " 2D)                                                             \n",
      "                                                                 \n",
      " conv2d_3 (Conv2D)           (None, 4, 4, 32)          4640      \n",
      "                                                                 \n",
      " batch_normalization_3 (Batc  (None, 4, 4, 32)         128       \n",
      " hNormalization)                                                 \n",
      "                                                                 \n",
      " max_pooling2d_3 (MaxPooling  (None, 2, 2, 32)         0         \n",
      " 2D)                                                             \n",
      "                                                                 \n",
      " flatten (Flatten)           (None, 128)               0         \n",
      "                                                                 \n",
      " dense (Dense)               (None, 512)               66048     \n",
      "                                                                 \n",
      " dropout (Dropout)           (None, 512)               0         \n",
      "                                                                 \n",
      " dense_1 (Dense)             (None, 256)               131328    \n",
      "                                                                 \n",
      " dropout_1 (Dropout)         (None, 256)               0         \n",
      "                                                                 \n",
      " dense_2 (Dense)             (None, 1)                 257       \n",
      "                                                                 \n",
      "=================================================================\n",
      "Total params: 204,089\n",
      "Trainable params: 203,969\n",
      "Non-trainable params: 120\n",
      "_________________________________________________________________\n"
     ]
    }
   ],
   "source": [
    "cnn.summary()"
   ]
  },
  {
   "cell_type": "markdown",
   "metadata": {
    "colab_type": "text",
    "id": "D6XkI90snSDl"
   },
   "source": [
    "## Part 3 - Training the CNN"
   ]
  },
  {
   "cell_type": "markdown",
   "metadata": {
    "colab_type": "text",
    "id": "vfrFQACEnc6i"
   },
   "source": [
    "### Compiling the CNN"
   ]
  },
  {
   "cell_type": "code",
   "execution_count": 18,
   "metadata": {
    "colab": {},
    "colab_type": "code",
    "id": "NALksrNQpUlJ"
   },
   "outputs": [],
   "source": [
    "opt = tf.keras.optimizers.SGD(learning_rate=0.001, momentum=0.99)\n",
    "# opt = 'adam'  #This optimizer can be used for comparison\n",
    "cnn.compile(optimizer = opt, loss = 'binary_crossentropy', metrics = ['accuracy'])\n",
    "# For multiclass classification:\n",
    "# cnn.compile(optimizer = 'rmsprop', loss = 'categorical_crossentropy', metrics = ['accuracy'])"
   ]
  },
  {
   "cell_type": "markdown",
   "metadata": {
    "colab_type": "text",
    "id": "ehS-v3MIpX2h"
   },
   "source": [
    "### Training the CNN on the Training set and evaluating it on the Test set"
   ]
  },
  {
   "cell_type": "code",
   "execution_count": 19,
   "metadata": {
    "colab": {},
    "colab_type": "code",
    "id": "XUj1W4PJptta"
   },
   "outputs": [
    {
     "name": "stdout",
     "output_type": "stream",
     "text": [
      "Epoch 1/16\n",
      "INFO:tensorflow:Reduce to /job:localhost/replica:0/task:0/device:CPU:0 then broadcast to ('/job:localhost/replica:0/task:0/device:CPU:0', '/job:localhost/replica:0/task:0/device:CPU:0').\n",
      "INFO:tensorflow:Reduce to /job:localhost/replica:0/task:0/device:CPU:0 then broadcast to ('/job:localhost/replica:0/task:0/device:CPU:0', '/job:localhost/replica:0/task:0/device:CPU:0').\n",
      "INFO:tensorflow:Reduce to /job:localhost/replica:0/task:0/device:CPU:0 then broadcast to ('/job:localhost/replica:0/task:0/device:CPU:0', '/job:localhost/replica:0/task:0/device:CPU:0').\n",
      "INFO:tensorflow:Reduce to /job:localhost/replica:0/task:0/device:CPU:0 then broadcast to ('/job:localhost/replica:0/task:0/device:CPU:0', '/job:localhost/replica:0/task:0/device:CPU:0').\n",
      "INFO:tensorflow:Reduce to /job:localhost/replica:0/task:0/device:CPU:0 then broadcast to ('/job:localhost/replica:0/task:0/device:CPU:0', '/job:localhost/replica:0/task:0/device:CPU:0').\n",
      "INFO:tensorflow:Reduce to /job:localhost/replica:0/task:0/device:CPU:0 then broadcast to ('/job:localhost/replica:0/task:0/device:CPU:0', '/job:localhost/replica:0/task:0/device:CPU:0').\n",
      "INFO:tensorflow:Reduce to /job:localhost/replica:0/task:0/device:CPU:0 then broadcast to ('/job:localhost/replica:0/task:0/device:CPU:0', '/job:localhost/replica:0/task:0/device:CPU:0').\n",
      "INFO:tensorflow:Reduce to /job:localhost/replica:0/task:0/device:CPU:0 then broadcast to ('/job:localhost/replica:0/task:0/device:CPU:0', '/job:localhost/replica:0/task:0/device:CPU:0').\n",
      "INFO:tensorflow:Reduce to /job:localhost/replica:0/task:0/device:CPU:0 then broadcast to ('/job:localhost/replica:0/task:0/device:CPU:0', '/job:localhost/replica:0/task:0/device:CPU:0').\n",
      "INFO:tensorflow:Reduce to /job:localhost/replica:0/task:0/device:CPU:0 then broadcast to ('/job:localhost/replica:0/task:0/device:CPU:0', '/job:localhost/replica:0/task:0/device:CPU:0').\n",
      "14/14 [==============================] - 39s 3s/step - loss: 0.7911 - accuracy: 0.5262 - val_loss: 0.6452 - val_accuracy: 0.9539\n",
      "Epoch 2/16\n",
      "14/14 [==============================] - 21s 2s/step - loss: 0.4581 - accuracy: 0.8064 - val_loss: 0.4528 - val_accuracy: 0.9539\n",
      "Epoch 3/16\n",
      "14/14 [==============================] - 20s 1s/step - loss: 0.3885 - accuracy: 0.8428 - val_loss: 0.2526 - val_accuracy: 0.9539\n",
      "Epoch 4/16\n",
      "14/14 [==============================] - 22s 2s/step - loss: 0.3138 - accuracy: 0.8679 - val_loss: 0.1703 - val_accuracy: 0.9539\n",
      "Epoch 5/16\n",
      "14/14 [==============================] - 20s 2s/step - loss: 0.2733 - accuracy: 0.8975 - val_loss: 0.1620 - val_accuracy: 0.9539\n",
      "Epoch 6/16\n",
      "14/14 [==============================] - 20s 2s/step - loss: 0.2720 - accuracy: 0.8838 - val_loss: 0.1630 - val_accuracy: 0.9539\n",
      "Epoch 7/16\n",
      "14/14 [==============================] - 20s 2s/step - loss: 0.2118 - accuracy: 0.9248 - val_loss: 0.1424 - val_accuracy: 0.9539\n",
      "Epoch 8/16\n",
      "14/14 [==============================] - 20s 2s/step - loss: 0.2230 - accuracy: 0.9112 - val_loss: 0.1294 - val_accuracy: 0.9543\n",
      "Epoch 9/16\n",
      "14/14 [==============================] - 20s 2s/step - loss: 0.2039 - accuracy: 0.9112 - val_loss: 0.1134 - val_accuracy: 0.9541\n",
      "Epoch 10/16\n",
      "14/14 [==============================] - 20s 2s/step - loss: 0.2152 - accuracy: 0.8975 - val_loss: 0.1038 - val_accuracy: 0.9560\n",
      "Epoch 11/16\n",
      "14/14 [==============================] - 20s 2s/step - loss: 0.2043 - accuracy: 0.9271 - val_loss: 0.1048 - val_accuracy: 0.9568\n",
      "Epoch 12/16\n",
      "14/14 [==============================] - 21s 2s/step - loss: 0.1734 - accuracy: 0.9317 - val_loss: 0.0986 - val_accuracy: 0.9576\n",
      "Epoch 13/16\n",
      "14/14 [==============================] - 21s 2s/step - loss: 0.1829 - accuracy: 0.9134 - val_loss: 0.0991 - val_accuracy: 0.9570\n",
      "Epoch 14/16\n",
      "14/14 [==============================] - 20s 2s/step - loss: 0.1951 - accuracy: 0.9294 - val_loss: 0.1002 - val_accuracy: 0.9586\n",
      "Epoch 15/16\n",
      "14/14 [==============================] - 19s 1s/step - loss: 0.1664 - accuracy: 0.9157 - val_loss: 0.0872 - val_accuracy: 0.9631\n",
      "Epoch 16/16\n",
      "14/14 [==============================] - 19s 1s/step - loss: 0.2042 - accuracy: 0.9134 - val_loss: 0.0778 - val_accuracy: 0.9647\n",
      "\n",
      "********Time used for training:  343.65819358825684\n"
     ]
    }
   ],
   "source": [
    "start_time = time.time()\n",
    "history = cnn.fit(x = training_set, validation_data = test_set, epochs = 16)\n",
    "end_time = time.time()\n",
    "print(\"\\n********Time used for training: \", end_time - start_time)"
   ]
  },
  {
   "cell_type": "markdown",
   "metadata": {},
   "source": [
    "### Plot the training and validation accuracy and loss at each epoch"
   ]
  },
  {
   "cell_type": "code",
   "execution_count": 20,
   "metadata": {},
   "outputs": [
    {
     "data": {
      "image/png": "[encoded data removed]",
      "text/plain": [
       "<Figure size 432x288 with 1 Axes>"
      ]
     },
     "metadata": {
      "needs_background": "light"
     },
     "output_type": "display_data"
    }
   ],
   "source": [
    "loss = history.history['loss']\n",
    "val_loss = history.history['val_loss']\n",
    "epochs = range(1, len(loss) + 1)\n",
    "plt.plot(epochs, loss, 'y', label='Training loss')\n",
    "plt.plot(epochs, val_loss, 'r', label='Validation loss')\n",
    "plt.title('Training and validation loss')\n",
    "plt.xlabel('Epochs')\n",
    "plt.ylabel('Loss')\n",
    "plt.legend()\n",
    "plt.show()"
   ]
  },
  {
   "cell_type": "code",
   "execution_count": 21,
   "metadata": {},
   "outputs": [
    {
     "data": {
      "image/png": "[encoded data removed]",
      "text/plain": [
       "<Figure size 432x288 with 1 Axes>"
      ]
     },
     "metadata": {
      "needs_background": "light"
     },
     "output_type": "display_data"
    }
   ],
   "source": [
    "acc = history.history['accuracy']\n",
    "val_acc = history.history['val_accuracy']\n",
    "plt.plot(epochs, acc, 'y', label='Training acc')\n",
    "plt.plot(epochs, val_acc, 'r', label='Validation acc')\n",
    "plt.title('Training and validation accuracy')\n",
    "plt.xlabel('Epochs')\n",
    "plt.ylabel('Accuracy')\n",
    "plt.legend()\n",
    "plt.show()"
   ]
  },
  {
   "cell_type": "markdown",
   "metadata": {},
   "source": [
    "### Save CNN model"
   ]
  },
  {
   "cell_type": "code",
   "execution_count": 22,
   "metadata": {},
   "outputs": [],
   "source": [
    "# Save the entire model to a HDF5 file.\n",
    "# The '.h5' extension indicates that the model should be saved to HDF5.\n",
    "cnn.save('cnn.h5')\n",
    "\n",
    "# Recreate the exact same model, including its weights and the optimizer\n",
    "# new_model = tf.keras.models.load_model('cnn.h5')\n",
    "# Show the model architecture\n",
    "# new_model.summary()"
   ]
  },
  {
   "cell_type": "code",
   "execution_count": 23,
   "metadata": {},
   "outputs": [],
   "source": [
    "# https://youtu.be/NVY0FucNRU4\n",
    "# Save only weights\n",
    "cnn.save_weights('cnn_weights.h5')\n",
    "\n",
    "# cnn.load_weights('cnn_weights.h5')\n",
    "\n",
    "# Save only architecture\n",
    "jason_string = cnn.to_json()\n",
    "with open(\"cnn_model.json\", \"w\") as f:\n",
    "    f.write(jason_string)\n",
    "\n",
    "with open(\"cnn_model.json\", \"r\") as f:\n",
    "    loaded_json_string = f.read()\n",
    "    \n",
    "#new_model = keras.model.model_from_json(loaded_json_string)\n",
    "#print(new_model.summary())\n"
   ]
  },
  {
   "cell_type": "markdown",
   "metadata": {
    "colab_type": "text",
    "id": "U3PZasO0006Z"
   },
   "source": [
    "## Part 4 - Making a single prediction"
   ]
  },
  {
   "cell_type": "code",
   "execution_count": 24,
   "metadata": {
    "colab": {},
    "colab_type": "code",
    "id": "ED9KB3I54c1i"
   },
   "outputs": [],
   "source": [
    "def single_predict(fileName):\n",
    "    path = 'iccad1/single_prediction/' + fileName + '.png'\n",
    "    test_image = image.load_img(path, target_size = (SIZE, SIZE))\n",
    "    test_image = image.img_to_array(test_image)\n",
    "    test_image = np.expand_dims(test_image, axis = 0)\n",
    "    #print(test_image)\n",
    "    result = cnn.predict(test_image/255.0)\n",
    "    print(result)\n",
    "    training_set.class_indices\n",
    "    print(training_set.class_indices)\n",
    "    if result[0][0] > 0.5:\n",
    "      prediction = 'HS'\n",
    "    else:\n",
    "      prediction = 'NHS'\n",
    "\n",
    "    print(prediction)\n",
    "    \n",
    "def showPNG(fileName):\n",
    "    path = 'iccad1/single_prediction/' + fileName + '.png'\n",
    "    display(Image(path, width = 200, height = 200))"
   ]
  },
  {
   "cell_type": "code",
   "execution_count": 25,
   "metadata": {},
   "outputs": [
    {
     "data": {
      "image/png": "[encoded data removed]",
      "text/plain": [
       "<IPython.core.display.Image object>"
      ]
     },
     "metadata": {
      "image/png": {
       "height": 200,
       "width": 200
      }
     },
     "output_type": "display_data"
    }
   ],
   "source": [
    "showPNG('train_HS12')"
   ]
  },
  {
   "cell_type": "code",
   "execution_count": 26,
   "metadata": {},
   "outputs": [
    {
     "name": "stdout",
     "output_type": "stream",
     "text": [
      "1/1 [==============================] - 1s 1s/step\n",
      "[[0.6785065]]\n",
      "{'NHS': 0, 'HS': 1}\n",
      "HS\n"
     ]
    }
   ],
   "source": [
    "single_predict('train_HS12')"
   ]
  },
  {
   "cell_type": "code",
   "execution_count": 27,
   "metadata": {},
   "outputs": [
    {
     "data": {
      "image/png": "[encoded data removed]",
      "text/plain": [
       "<IPython.core.display.Image object>"
      ]
     },
     "metadata": {
      "image/png": {
       "height": 200,
       "width": 200
      }
     },
     "output_type": "display_data"
    }
   ],
   "source": [
    "showPNG('train_NHS100')"
   ]
  },
  {
   "cell_type": "code",
   "execution_count": 28,
   "metadata": {},
   "outputs": [
    {
     "name": "stdout",
     "output_type": "stream",
     "text": [
      "1/1 [==============================] - 0s 70ms/step\n",
      "[[0.00025769]]\n",
      "{'NHS': 0, 'HS': 1}\n",
      "NHS\n"
     ]
    }
   ],
   "source": [
    "single_predict('train_NHS100')"
   ]
  },
  {
   "cell_type": "code",
   "execution_count": 29,
   "metadata": {},
   "outputs": [
    {
     "data": {
      "image/png": "[encoded data removed]",
      "text/plain": [
       "<IPython.core.display.Image object>"
      ]
     },
     "metadata": {
      "image/png": {
       "height": 200,
       "width": 200
      }
     },
     "output_type": "display_data"
    }
   ],
   "source": [
    "showPNG('test_HS12')"
   ]
  },
  {
   "cell_type": "code",
   "execution_count": 30,
   "metadata": {},
   "outputs": [
    {
     "name": "stdout",
     "output_type": "stream",
     "text": [
      "1/1 [==============================] - 0s 64ms/step\n",
      "[[0.6785065]]\n",
      "{'NHS': 0, 'HS': 1}\n",
      "HS\n"
     ]
    }
   ],
   "source": [
    "single_predict('test_HS12')"
   ]
  },
  {
   "cell_type": "code",
   "execution_count": 31,
   "metadata": {},
   "outputs": [
    {
     "data": {
      "image/png": "[encoded data removed]",
      "text/plain": [
       "<IPython.core.display.Image object>"
      ]
     },
     "metadata": {
      "image/png": {
       "height": 200,
       "width": 200
      }
     },
     "output_type": "display_data"
    }
   ],
   "source": [
    "showPNG('test_NHS133.png1')"
   ]
  },
  {
   "cell_type": "code",
   "execution_count": 32,
   "metadata": {},
   "outputs": [
    {
     "name": "stdout",
     "output_type": "stream",
     "text": [
      "1/1 [==============================] - 0s 66ms/step\n",
      "[[0.21462864]]\n",
      "{'NHS': 0, 'HS': 1}\n",
      "NHS\n"
     ]
    }
   ],
   "source": [
    "single_predict('test_NHS133.png1')"
   ]
  },
  {
   "cell_type": "code",
   "execution_count": 33,
   "metadata": {},
   "outputs": [
    {
     "data": {
      "image/png": "[encoded data removed]",
      "text/plain": [
       "<IPython.core.display.Image object>"
      ]
     },
     "metadata": {
      "image/png": {
       "height": 200,
       "width": 200
      }
     },
     "output_type": "display_data"
    }
   ],
   "source": [
    "showPNG('test_NHS108.png9')"
   ]
  },
  {
   "cell_type": "code",
   "execution_count": 34,
   "metadata": {},
   "outputs": [
    {
     "name": "stdout",
     "output_type": "stream",
     "text": [
      "1/1 [==============================] - 0s 61ms/step\n",
      "[[9.177511e-06]]\n",
      "{'NHS': 0, 'HS': 1}\n",
      "NHS\n"
     ]
    }
   ],
   "source": [
    "single_predict('test_NHS108.png9')"
   ]
  },
  {
   "cell_type": "code",
   "execution_count": 35,
   "metadata": {},
   "outputs": [
    {
     "data": {
      "image/png": "[encoded data removed]",
      "text/plain": [
       "<IPython.core.display.Image object>"
      ]
     },
     "metadata": {
      "image/png": {
       "height": 200,
       "width": 200
      }
     },
     "output_type": "display_data"
    }
   ],
   "source": [
    "showPNG('test_NHS10.png2')"
   ]
  },
  {
   "cell_type": "code",
   "execution_count": 36,
   "metadata": {},
   "outputs": [
    {
     "name": "stdout",
     "output_type": "stream",
     "text": [
      "1/1 [==============================] - 0s 62ms/step\n",
      "[[8.1661245e-05]]\n",
      "{'NHS': 0, 'HS': 1}\n",
      "NHS\n"
     ]
    }
   ],
   "source": [
    "single_predict('test_NHS10.png2')"
   ]
  },
  {
   "cell_type": "code",
   "execution_count": null,
   "metadata": {},
   "outputs": [],
   "source": []
  }
 ],
 "metadata": {
  "colab": {
   "collapsed_sections": [],
   "name": "convolutional_neural_network.ipynb",
   "provenance": [],
   "toc_visible": true
  },
  "kernelspec": {
   "display_name": "Python 3 (ipykernel)",
   "language": "python",
   "name": "python3"
  },
  "language_info": {
   "codemirror_mode": {
    "name": "ipython",
    "version": 3
   },
   "file_extension": ".py",
   "mimetype": "text/x-python",
   "name": "python",
   "nbconvert_exporter": "python",
   "pygments_lexer": "ipython3",
   "version": "3.9.12"
  }
 },
 "nbformat": 4,
 "nbformat_minor": 1
}
