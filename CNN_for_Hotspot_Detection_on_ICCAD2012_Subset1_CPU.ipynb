{
 "cells": [
  {
   "cell_type": "markdown",
   "metadata": {
    "colab_type": "text",
    "id": "3DR-eO17geWu"
   },
   "source": [
    "# Convolutional Neural Network for Hotspot Detection on ICCAD2012"
   ]
  },
  {
   "cell_type": "markdown",
   "metadata": {
    "colab_type": "text",
    "id": "EMefrVPCg-60"
   },
   "source": [
    "### Importing the libraries"
   ]
  },
  {
   "cell_type": "code",
   "execution_count": 41,
   "metadata": {
    "colab": {},
    "colab_type": "code",
    "id": "sCV30xyVhFbE"
   },
   "outputs": [],
   "source": [
    "import numpy as np\n",
    "import matplotlib.pyplot as plt\n",
    "import matplotlib.image as mpimg\n",
    "import tensorflow as tf\n",
    "from keras.preprocessing.image import ImageDataGenerator\n",
    "from tensorflow.keras.preprocessing import image\n",
    "from IPython.display import Image\n",
    "import time\n",
    "import os\n",
    "import copy"
   ]
  },
  {
   "cell_type": "code",
   "execution_count": 42,
   "metadata": {
    "colab": {},
    "colab_type": "code",
    "id": "FIleuCAjoFD8"
   },
   "outputs": [
    {
     "data": {
      "text/plain": [
       "'2.9.1'"
      ]
     },
     "execution_count": 42,
     "metadata": {},
     "output_type": "execute_result"
    }
   ],
   "source": [
    "tf.__version__"
   ]
  },
  {
   "cell_type": "markdown",
   "metadata": {},
   "source": [
    "### Global Parameters"
   ]
  },
  {
   "cell_type": "code",
   "execution_count": 85,
   "metadata": {},
   "outputs": [],
   "source": [
    "SIZE = 128\n",
    "# Image Parameters in the future can be added to the channels\n",
    "CHANNELS = 3\n",
    "DROPOUT_RATE = 0.5\n",
    "BATCH_SIZE = 32\n",
    "CLASSES = {'NHS':0, 'HS':1}"
   ]
  },
  {
   "cell_type": "markdown",
   "metadata": {
    "colab_type": "text",
    "id": "oxQxCBWyoGPE"
   },
   "source": [
    "## Part 1 - Data Preprocessing"
   ]
  },
  {
   "cell_type": "markdown",
   "metadata": {
    "colab_type": "text",
    "id": "MvE-heJNo3GG"
   },
   "source": [
    "### Preprocessing the Training set"
   ]
  },
  {
   "cell_type": "code",
   "execution_count": 86,
   "metadata": {
    "colab": {},
    "colab_type": "code",
    "id": "0koUcJMJpEBD"
   },
   "outputs": [
    {
     "name": "stdout",
     "output_type": "stream",
     "text": [
      "Found 439 images belonging to 2 classes.\n"
     ]
    }
   ],
   "source": [
    "# https://www.tensorflow.org/api_docs/python/tf/keras/preprocessing/image/ImageDataGenerator\n",
    "train_datagen = ImageDataGenerator(rescale = 1./255,\n",
    "                                   shear_range = 0.2,\n",
    "                                   zoom_range = 0.2,\n",
    "                                   width_shift_range=0.1,\n",
    "                                   height_shift_range=0.1,\n",
    "                                   horizontal_flip = True,\n",
    "                                   vertical_flip = True)\n",
    "training_set = train_datagen.flow_from_directory(directory = 'iccad1/train',\n",
    "                                                 target_size = (SIZE, SIZE),\n",
    "                                                 batch_size = BATCH_SIZE,\n",
    "                                                 classes = CLASSES,\n",
    "                                                 class_mode = 'binary',\n",
    "                                                 shuffle = True,\n",
    "                                                 seed = 42\n",
    "                                                )"
   ]
  },
  {
   "cell_type": "markdown",
   "metadata": {
    "colab_type": "text",
    "id": "mrCMmGw9pHys"
   },
   "source": [
    "### Preprocessing the Test set"
   ]
  },
  {
   "cell_type": "code",
   "execution_count": 87,
   "metadata": {
    "colab": {},
    "colab_type": "code",
    "id": "SH4WzfOhpKc3"
   },
   "outputs": [
    {
     "name": "stdout",
     "output_type": "stream",
     "text": [
      "Found 4905 images belonging to 2 classes.\n"
     ]
    }
   ],
   "source": [
    "test_datagen = ImageDataGenerator(rescale = 1./255)\n",
    "test_set = test_datagen.flow_from_directory(directory = 'iccad1/test',\n",
    "                                            target_size = (SIZE, SIZE),\n",
    "                                            batch_size = BATCH_SIZE,\n",
    "                                            classes = CLASSES,\n",
    "                                            class_mode = 'binary',\n",
    "                                            shuffle = True,\n",
    "                                            seed = 42\n",
    "                                            )"
   ]
  },
  {
   "cell_type": "markdown",
   "metadata": {
    "colab_type": "text",
    "id": "af8O4l90gk7B"
   },
   "source": [
    "## Part 2 - Building the CNN"
   ]
  },
  {
   "cell_type": "code",
   "execution_count": 107,
   "metadata": {
    "colab": {},
    "colab_type": "code",
    "id": "XPzPrMckl-hV"
   },
   "outputs": [],
   "source": [
    "# Initialising the CNN\n",
    "cnn = tf.keras.models.Sequential()\n",
    "\n",
    "# Convolutional & Pooling Layers\n",
    "cnn.add(tf.keras.layers.Conv2D(filters=4, kernel_size=3, activation='relu', input_shape=[SIZE, SIZE, CHANNELS]))\n",
    "cnn.add(tf.keras.layers.BatchNormalization())\n",
    "cnn.add(tf.keras.layers.MaxPool2D(pool_size=2, strides=2))\n",
    "\n",
    "cnn.add(tf.keras.layers.Conv2D(filters=8, kernel_size=3, activation='relu'))\n",
    "cnn.add(tf.keras.layers.BatchNormalization())\n",
    "cnn.add(tf.keras.layers.MaxPool2D(pool_size=2, strides=2))\n",
    "\n",
    "cnn.add(tf.keras.layers.Conv2D(filters=16, kernel_size=3, activation='relu'))\n",
    "cnn.add(tf.keras.layers.BatchNormalization())\n",
    "cnn.add(tf.keras.layers.MaxPool2D(pool_size=2, strides=2))\n",
    "\n",
    "cnn.add(tf.keras.layers.Conv2D(filters=32, kernel_size=3, activation='relu'))\n",
    "cnn.add(tf.keras.layers.BatchNormalization())\n",
    "cnn.add(tf.keras.layers.MaxPool2D(pool_size=2, strides=2))\n",
    "\n",
    "# Flattening\n",
    "cnn.add(tf.keras.layers.Flatten())\n",
    "\n",
    "# Full Connection Layers\n",
    "cnn.add(tf.keras.layers.Dense(units=512, activation='relu'))\n",
    "cnn.add(tf.keras.layers.Dropout(DROPOUT_RATE))\n",
    "cnn.add(tf.keras.layers.Dense(units=256, activation='relu'))\n",
    "cnn.add(tf.keras.layers.Dropout(DROPOUT_RATE))\n",
    "\n",
    "# Output Layer\n",
    "cnn.add(tf.keras.layers.Dense(units=1, activation='sigmoid'))\n",
    "# For multiclass classification, softmax should be used as activation function.\n",
    "#cnn.add(tf.keras.layers.Dense(units=n, activation='softmax'))"
   ]
  },
  {
   "cell_type": "markdown",
   "metadata": {},
   "source": [
    "### Model Summary"
   ]
  },
  {
   "cell_type": "code",
   "execution_count": 108,
   "metadata": {},
   "outputs": [
    {
     "name": "stdout",
     "output_type": "stream",
     "text": [
      "Model: \"sequential_14\"\n",
      "_________________________________________________________________\n",
      " Layer (type)                Output Shape              Param #   \n",
      "=================================================================\n",
      " conv2d_72 (Conv2D)          (None, 126, 126, 4)       112       \n",
      "                                                                 \n",
      " batch_normalization_63 (Bat  (None, 126, 126, 4)      16        \n",
      " chNormalization)                                                \n",
      "                                                                 \n",
      " max_pooling2d_51 (MaxPoolin  (None, 63, 63, 4)        0         \n",
      " g2D)                                                            \n",
      "                                                                 \n",
      " conv2d_73 (Conv2D)          (None, 61, 61, 8)         296       \n",
      "                                                                 \n",
      " batch_normalization_64 (Bat  (None, 61, 61, 8)        32        \n",
      " chNormalization)                                                \n",
      "                                                                 \n",
      " max_pooling2d_52 (MaxPoolin  (None, 30, 30, 8)        0         \n",
      " g2D)                                                            \n",
      "                                                                 \n",
      " conv2d_74 (Conv2D)          (None, 28, 28, 16)        1168      \n",
      "                                                                 \n",
      " batch_normalization_65 (Bat  (None, 28, 28, 16)       64        \n",
      " chNormalization)                                                \n",
      "                                                                 \n",
      " max_pooling2d_53 (MaxPoolin  (None, 14, 14, 16)       0         \n",
      " g2D)                                                            \n",
      "                                                                 \n",
      " conv2d_75 (Conv2D)          (None, 12, 12, 32)        4640      \n",
      "                                                                 \n",
      " batch_normalization_66 (Bat  (None, 12, 12, 32)       128       \n",
      " chNormalization)                                                \n",
      "                                                                 \n",
      " max_pooling2d_54 (MaxPoolin  (None, 6, 6, 32)         0         \n",
      " g2D)                                                            \n",
      "                                                                 \n",
      " flatten_10 (Flatten)        (None, 1152)              0         \n",
      "                                                                 \n",
      " dense_30 (Dense)            (None, 512)               590336    \n",
      "                                                                 \n",
      " dropout_20 (Dropout)        (None, 512)               0         \n",
      "                                                                 \n",
      " dense_31 (Dense)            (None, 256)               131328    \n",
      "                                                                 \n",
      " dropout_21 (Dropout)        (None, 256)               0         \n",
      "                                                                 \n",
      " dense_32 (Dense)            (None, 1)                 257       \n",
      "                                                                 \n",
      "=================================================================\n",
      "Total params: 728,377\n",
      "Trainable params: 728,257\n",
      "Non-trainable params: 120\n",
      "_________________________________________________________________\n"
     ]
    }
   ],
   "source": [
    "cnn.summary()"
   ]
  },
  {
   "cell_type": "markdown",
   "metadata": {
    "colab_type": "text",
    "id": "D6XkI90snSDl"
   },
   "source": [
    "## Part 3 - Training the CNN"
   ]
  },
  {
   "cell_type": "markdown",
   "metadata": {
    "colab_type": "text",
    "id": "vfrFQACEnc6i"
   },
   "source": [
    "### Compiling the CNN"
   ]
  },
  {
   "cell_type": "code",
   "execution_count": 109,
   "metadata": {
    "colab": {},
    "colab_type": "code",
    "id": "NALksrNQpUlJ"
   },
   "outputs": [],
   "source": [
    "opt = tf.keras.optimizers.SGD(learning_rate=0.001, momentum=0.99)\n",
    "# opt = 'adam'  #This optimizer can be used for comparison\n",
    "cnn.compile(optimizer = opt, loss = 'binary_crossentropy', metrics = ['accuracy'])\n",
    "# For multiclass classification:\n",
    "# cnn.compile(optimizer = 'rmsprop', loss = 'categorical_crossentropy', metrics = ['accuracy'])"
   ]
  },
  {
   "cell_type": "markdown",
   "metadata": {
    "colab_type": "text",
    "id": "ehS-v3MIpX2h"
   },
   "source": [
    "### Training the CNN on the Training set and evaluating it on the Test set"
   ]
  },
  {
   "cell_type": "code",
   "execution_count": 111,
   "metadata": {
    "colab": {},
    "colab_type": "code",
    "id": "XUj1W4PJptta"
   },
   "outputs": [
    {
     "name": "stdout",
     "output_type": "stream",
     "text": [
      "Epoch 1/16\n",
      "14/14 [==============================] - 26s 2s/step - loss: 1.1813 - accuracy: 0.7608 - val_loss: 0.5636 - val_accuracy: 0.9539\n",
      "Epoch 2/16\n",
      "14/14 [==============================] - 25s 2s/step - loss: 0.5533 - accuracy: 0.7472 - val_loss: 0.5347 - val_accuracy: 0.9523\n",
      "Epoch 3/16\n",
      "14/14 [==============================] - 24s 2s/step - loss: 0.5021 - accuracy: 0.7995 - val_loss: 0.3797 - val_accuracy: 0.9539\n",
      "Epoch 4/16\n",
      "14/14 [==============================] - 25s 2s/step - loss: 0.5429 - accuracy: 0.7745 - val_loss: 0.2711 - val_accuracy: 0.9539\n",
      "Epoch 5/16\n",
      "14/14 [==============================] - 26s 2s/step - loss: 0.4640 - accuracy: 0.7927 - val_loss: 0.2878 - val_accuracy: 0.9507\n",
      "Epoch 6/16\n",
      "14/14 [==============================] - 25s 2s/step - loss: 0.4121 - accuracy: 0.7995 - val_loss: 0.3500 - val_accuracy: 0.8924\n",
      "Epoch 7/16\n",
      "14/14 [==============================] - 25s 2s/step - loss: 0.4111 - accuracy: 0.8132 - val_loss: 0.3084 - val_accuracy: 0.9068\n",
      "Epoch 8/16\n",
      "14/14 [==============================] - 25s 2s/step - loss: 0.3536 - accuracy: 0.8292 - val_loss: 0.2111 - val_accuracy: 0.9578\n",
      "Epoch 9/16\n",
      "14/14 [==============================] - 26s 2s/step - loss: 0.3486 - accuracy: 0.8132 - val_loss: 0.1639 - val_accuracy: 0.9592\n",
      "Epoch 10/16\n",
      "14/14 [==============================] - 26s 2s/step - loss: 0.3106 - accuracy: 0.8200 - val_loss: 0.1568 - val_accuracy: 0.9633\n",
      "Epoch 11/16\n",
      "14/14 [==============================] - 26s 2s/step - loss: 0.2899 - accuracy: 0.8542 - val_loss: 0.1642 - val_accuracy: 0.9464\n",
      "Epoch 12/16\n",
      "14/14 [==============================] - 26s 2s/step - loss: 0.2302 - accuracy: 0.9089 - val_loss: 0.1434 - val_accuracy: 0.9509\n",
      "Epoch 13/16\n",
      "14/14 [==============================] - 26s 2s/step - loss: 0.1987 - accuracy: 0.9180 - val_loss: 0.0909 - val_accuracy: 0.9710\n",
      "Epoch 14/16\n",
      "14/14 [==============================] - 26s 2s/step - loss: 0.1705 - accuracy: 0.9408 - val_loss: 0.0662 - val_accuracy: 0.9745\n",
      "Epoch 15/16\n",
      "14/14 [==============================] - 25s 2s/step - loss: 0.1435 - accuracy: 0.9317 - val_loss: 0.0590 - val_accuracy: 0.9747\n",
      "Epoch 16/16\n",
      "14/14 [==============================] - 25s 2s/step - loss: 0.1899 - accuracy: 0.9066 - val_loss: 0.0581 - val_accuracy: 0.9790\n",
      "\n",
      "********Time used for training:  407.9169476032257\n"
     ]
    }
   ],
   "source": [
    "start_time = time.time()\n",
    "history = cnn.fit(x = training_set, validation_data = test_set, epochs = 16)\n",
    "end_time = time.time()\n",
    "print(\"\\n********Time used for training: \", end_time - start_time)"
   ]
  },
  {
   "cell_type": "markdown",
   "metadata": {},
   "source": [
    "### Plot the training and validation accuracy and loss at each epoch"
   ]
  },
  {
   "cell_type": "code",
   "execution_count": 112,
   "metadata": {},
   "outputs": [
    {
     "data": {
      "image/png": "[encoded data removed]",
      "text/plain": [
       "<Figure size 432x288 with 1 Axes>"
      ]
     },
     "metadata": {
      "needs_background": "light"
     },
     "output_type": "display_data"
    }
   ],
   "source": [
    "loss = history.history['loss']\n",
    "val_loss = history.history['val_loss']\n",
    "epochs = range(1, len(loss) + 1)\n",
    "plt.plot(epochs, loss, 'y', label='Training loss')\n",
    "plt.plot(epochs, val_loss, 'r', label='Validation loss')\n",
    "plt.title('Training and validation loss')\n",
    "plt.xlabel('Epochs')\n",
    "plt.ylabel('Loss')\n",
    "plt.legend()\n",
    "plt.show()"
   ]
  },
  {
   "cell_type": "code",
   "execution_count": 113,
   "metadata": {},
   "outputs": [
    {
     "data": {
      "image/png": "[encoded data removed]",
      "text/plain": [
       "<Figure size 432x288 with 1 Axes>"
      ]
     },
     "metadata": {
      "needs_background": "light"
     },
     "output_type": "display_data"
    }
   ],
   "source": [
    "acc = history.history['accuracy']\n",
    "val_acc = history.history['val_accuracy']\n",
    "plt.plot(epochs, acc, 'y', label='Training acc')\n",
    "plt.plot(epochs, val_acc, 'r', label='Validation acc')\n",
    "plt.title('Training and validation accuracy')\n",
    "plt.xlabel('Epochs')\n",
    "plt.ylabel('Accuracy')\n",
    "plt.legend()\n",
    "plt.show()"
   ]
  },
  {
   "cell_type": "markdown",
   "metadata": {},
   "source": [
    "### Save CNN model"
   ]
  },
  {
   "cell_type": "code",
   "execution_count": 114,
   "metadata": {},
   "outputs": [],
   "source": [
    "# Save the entire model to a HDF5 file.\n",
    "# The '.h5' extension indicates that the model should be saved to HDF5.\n",
    "cnn.save('cnn.h5')\n",
    "\n",
    "# Recreate the exact same model, including its weights and the optimizer\n",
    "# new_model = tf.keras.models.load_model('cnn.h5')\n",
    "# Show the model architecture\n",
    "# new_model.summary()"
   ]
  },
  {
   "cell_type": "code",
   "execution_count": 115,
   "metadata": {},
   "outputs": [],
   "source": [
    "# https://youtu.be/NVY0FucNRU4\n",
    "# Save only weights\n",
    "cnn.save_weights('cnn_weights.h5')\n",
    "\n",
    "# cnn.load_weights('cnn_weights.h5')\n",
    "\n",
    "# Save only architecture\n",
    "jason_string = cnn.to_json()\n",
    "with open(\"cnn_model.json\", \"w\") as f:\n",
    "    f.write(jason_string)\n",
    "\n",
    "with open(\"cnn_model.json\", \"r\") as f:\n",
    "    loaded_json_string = f.read()\n",
    "    \n",
    "#new_model = keras.model.model_from_json(loaded_json_string)\n",
    "#print(new_model.summary())\n"
   ]
  },
  {
   "cell_type": "markdown",
   "metadata": {
    "colab_type": "text",
    "id": "U3PZasO0006Z"
   },
   "source": [
    "## Part 4 - Making a single prediction"
   ]
  },
  {
   "cell_type": "code",
   "execution_count": 116,
   "metadata": {
    "colab": {},
    "colab_type": "code",
    "id": "ED9KB3I54c1i"
   },
   "outputs": [],
   "source": [
    "def single_predict(fileName):\n",
    "    path = 'iccad1/single_prediction/' + fileName + '.png'\n",
    "    test_image = image.load_img(path, target_size = (SIZE, SIZE))\n",
    "    test_image = image.img_to_array(test_image)\n",
    "    test_image = np.expand_dims(test_image, axis = 0)\n",
    "    #print(test_image)\n",
    "    result = cnn.predict(test_image/255.0)\n",
    "    print(result)\n",
    "    training_set.class_indices\n",
    "    print(training_set.class_indices)\n",
    "    if result[0][0] > 0.5:\n",
    "      prediction = 'HS'\n",
    "    else:\n",
    "      prediction = 'NHS'\n",
    "\n",
    "    print(prediction)\n",
    "    \n",
    "def showPNG(fileName):\n",
    "    path = 'iccad1/single_prediction/' + fileName + '.png'\n",
    "    display(Image(path, width = 200, height = 200))"
   ]
  },
  {
   "cell_type": "code",
   "execution_count": 117,
   "metadata": {},
   "outputs": [
    {
     "data": {
      "image/png": "[encoded data removed]",
      "text/plain": [
       "<IPython.core.display.Image object>"
      ]
     },
     "metadata": {
      "image/png": {
       "height": 200,
       "width": 200
      }
     },
     "output_type": "display_data"
    }
   ],
   "source": [
    "showPNG('test_HS12')"
   ]
  },
  {
   "cell_type": "code",
   "execution_count": 118,
   "metadata": {},
   "outputs": [
    {
     "name": "stdout",
     "output_type": "stream",
     "text": [
      "1/1 [==============================] - 0s 112ms/step\n",
      "[[0.75417656]]\n",
      "{'NHS': 0, 'HS': 1}\n",
      "HS\n"
     ]
    }
   ],
   "source": [
    "single_predict('test_HS12')"
   ]
  },
  {
   "cell_type": "code",
   "execution_count": 119,
   "metadata": {},
   "outputs": [
    {
     "data": {
      "image/png": "[encoded data removed]",
      "text/plain": [
       "<IPython.core.display.Image object>"
      ]
     },
     "metadata": {
      "image/png": {
       "height": 200,
       "width": 200
      }
     },
     "output_type": "display_data"
    }
   ],
   "source": [
    "showPNG('test_NHS133.png1')"
   ]
  },
  {
   "cell_type": "code",
   "execution_count": 120,
   "metadata": {},
   "outputs": [
    {
     "name": "stdout",
     "output_type": "stream",
     "text": [
      "1/1 [==============================] - 0s 17ms/step\n",
      "[[0.16019106]]\n",
      "{'NHS': 0, 'HS': 1}\n",
      "NHS\n"
     ]
    }
   ],
   "source": [
    "single_predict('test_NHS133.png1')"
   ]
  },
  {
   "cell_type": "code",
   "execution_count": 121,
   "metadata": {},
   "outputs": [
    {
     "data": {
      "image/png": "[encoded data removed]",
      "text/plain": [
       "<IPython.core.display.Image object>"
      ]
     },
     "metadata": {
      "image/png": {
       "height": 200,
       "width": 200
      }
     },
     "output_type": "display_data"
    }
   ],
   "source": [
    "showPNG('test_NHS108.png9')"
   ]
  },
  {
   "cell_type": "code",
   "execution_count": 122,
   "metadata": {},
   "outputs": [
    {
     "name": "stdout",
     "output_type": "stream",
     "text": [
      "1/1 [==============================] - 0s 16ms/step\n",
      "[[0.00058153]]\n",
      "{'NHS': 0, 'HS': 1}\n",
      "NHS\n"
     ]
    }
   ],
   "source": [
    "single_predict('test_NHS108.png9')"
   ]
  },
  {
   "cell_type": "code",
   "execution_count": 123,
   "metadata": {},
   "outputs": [
    {
     "data": {
      "image/png": "[encoded data removed]",
      "text/plain": [
       "<IPython.core.display.Image object>"
      ]
     },
     "metadata": {
      "image/png": {
       "height": 200,
       "width": 200
      }
     },
     "output_type": "display_data"
    }
   ],
   "source": [
    "showPNG('test_NHS10.png2')"
   ]
  },
  {
   "cell_type": "code",
   "execution_count": 124,
   "metadata": {},
   "outputs": [
    {
     "name": "stdout",
     "output_type": "stream",
     "text": [
      "1/1 [==============================] - 0s 13ms/step\n",
      "[[0.01525047]]\n",
      "{'NHS': 0, 'HS': 1}\n",
      "NHS\n"
     ]
    }
   ],
   "source": [
    "single_predict('test_NHS10.png2')"
   ]
  },
  {
   "cell_type": "markdown",
   "metadata": {},
   "source": [
    "## Part 5 - Making group predictions"
   ]
  },
  {
   "cell_type": "markdown",
   "metadata": {},
   "source": [
    "### Set path for test files"
   ]
  },
  {
   "cell_type": "code",
   "execution_count": 125,
   "metadata": {},
   "outputs": [
    {
     "name": "stdout",
     "output_type": "stream",
     "text": [
      "200 images are loaded, including 100 HS patterns and 100 NHS patterns.\n",
      "[('HSCAD30.png', 1), ('HSCAD31.png', 1), ('HSCAD310.png', 1), ('HSCAD3100.png', 1), ('HSCAD31000.png', 1), ('HSCAD31001.png', 1), ('HSCAD31002.png', 1), ('HSCAD31003.png', 1), ('HSCAD31004.png', 1), ('HSCAD31005.png', 1), ('HSCAD31006.png', 1), ('HSCAD31007.png', 1), ('HSCAD31008.png', 1), ('HSCAD31009.png', 1), ('HSCAD3101.png', 1), ('HSCAD31010.png', 1), ('HSCAD31011.png', 1), ('HSCAD31012.png', 1), ('HSCAD31013.png', 1), ('HSCAD31014.png', 1), ('HSCAD31015.png', 1), ('HSCAD31016.png', 1), ('HSCAD31017.png', 1), ('HSCAD31018.png', 1), ('HSCAD31019.png', 1), ('HSCAD3102.png', 1), ('HSCAD31020.png', 1), ('HSCAD31021.png', 1), ('HSCAD31022.png', 1), ('HSCAD31023.png', 1), ('HSCAD31024.png', 1), ('HSCAD31025.png', 1), ('HSCAD31026.png', 1), ('HSCAD31027.png', 1), ('HSCAD31028.png', 1), ('HSCAD31029.png', 1), ('HSCAD3103.png', 1), ('HSCAD31030.png', 1), ('HSCAD31031.png', 1), ('HSCAD31032.png', 1), ('HSCAD31033.png', 1), ('HSCAD31034.png', 1), ('HSCAD31035.png', 1), ('HSCAD31036.png', 1), ('HSCAD31037.png', 1), ('HSCAD31038.png', 1), ('HSCAD31039.png', 1), ('HSCAD3104.png', 1), ('HSCAD31040.png', 1), ('HSCAD31041.png', 1), ('HSCAD31042.png', 1), ('HSCAD31043.png', 1), ('HSCAD31044.png', 1), ('HSCAD31045.png', 1), ('HSCAD31046.png', 1), ('HSCAD31047.png', 1), ('HSCAD31048.png', 1), ('HSCAD31049.png', 1), ('HSCAD3105.png', 1), ('HSCAD31050.png', 1), ('HSCAD31051.png', 1), ('HSCAD31052.png', 1), ('HSCAD31053.png', 1), ('HSCAD31054.png', 1), ('HSCAD31055.png', 1), ('HSCAD31056.png', 1), ('HSCAD31057.png', 1), ('HSCAD31058.png', 1), ('HSCAD31059.png', 1), ('HSCAD3106.png', 1), ('HSCAD31060.png', 1), ('HSCAD31061.png', 1), ('HSCAD31062.png', 1), ('HSCAD31063.png', 1), ('HSCAD31064.png', 1), ('HSCAD31065.png', 1), ('HSCAD31066.png', 1), ('HSCAD31067.png', 1), ('HSCAD31068.png', 1), ('HSCAD31069.png', 1), ('HSCAD3107.png', 1), ('HSCAD31070.png', 1), ('HSCAD31071.png', 1), ('HSCAD31072.png', 1), ('HSCAD31073.png', 1), ('HSCAD31074.png', 1), ('HSCAD31075.png', 1), ('HSCAD31076.png', 1), ('HSCAD31077.png', 1), ('HSCAD31078.png', 1), ('HSCAD31079.png', 1), ('HSCAD3108.png', 1), ('HSCAD31080.png', 1), ('HSCAD31081.png', 1), ('HSCAD31082.png', 1), ('HSCAD31083.png', 1), ('HSCAD31084.png', 1), ('HSCAD31085.png', 1), ('HSCAD31086.png', 1), ('HSCAD31087.png', 1), ('NHSCAD3958.png9.png', 0), ('NHSCAD3959.png1.png', 0), ('NHSCAD3959.png2.png', 0), ('NHSCAD3959.png3.png', 0), ('NHSCAD3959.png4.png', 0), ('NHSCAD3959.png6.png', 0), ('NHSCAD3959.png7.png', 0), ('NHSCAD3959.png8.png', 0), ('NHSCAD3959.png9.png', 0), ('NHSCAD396.png1.png', 0), ('NHSCAD396.png2.png', 0), ('NHSCAD396.png3.png', 0), ('NHSCAD396.png4.png', 0), ('NHSCAD396.png6.png', 0), ('NHSCAD396.png7.png', 0), ('NHSCAD396.png8.png', 0), ('NHSCAD396.png9.png', 0), ('NHSCAD3960.png1.png', 0), ('NHSCAD3960.png2.png', 0), ('NHSCAD3960.png3.png', 0), ('NHSCAD3960.png4.png', 0), ('NHSCAD3960.png6.png', 0), ('NHSCAD3960.png7.png', 0), ('NHSCAD3960.png8.png', 0), ('NHSCAD3960.png9.png', 0), ('NHSCAD3961.png1.png', 0), ('NHSCAD3961.png2.png', 0), ('NHSCAD3961.png3.png', 0), ('NHSCAD3961.png4.png', 0), ('NHSCAD3961.png6.png', 0), ('NHSCAD3961.png7.png', 0), ('NHSCAD3961.png8.png', 0), ('NHSCAD3961.png9.png', 0), ('NHSCAD3962.png1.png', 0), ('NHSCAD3962.png2.png', 0), ('NHSCAD3962.png3.png', 0), ('NHSCAD3962.png4.png', 0), ('NHSCAD3962.png6.png', 0), ('NHSCAD3962.png7.png', 0), ('NHSCAD3962.png8.png', 0), ('NHSCAD3962.png9.png', 0), ('NHSCAD3963.png1.png', 0), ('NHSCAD3963.png2.png', 0), ('NHSCAD3963.png3.png', 0), ('NHSCAD3963.png4.png', 0), ('NHSCAD3963.png6.png', 0), ('NHSCAD3963.png7.png', 0), ('NHSCAD3963.png8.png', 0), ('NHSCAD3963.png9.png', 0), ('NHSCAD3964.png1.png', 0), ('NHSCAD3964.png2.png', 0), ('NHSCAD3964.png3.png', 0), ('NHSCAD3964.png4.png', 0), ('NHSCAD3964.png6.png', 0), ('NHSCAD3964.png7.png', 0), ('NHSCAD3964.png8.png', 0), ('NHSCAD3964.png9.png', 0), ('NHSCAD3965.png1.png', 0), ('NHSCAD3965.png2.png', 0), ('NHSCAD3965.png3.png', 0), ('NHSCAD3965.png4.png', 0), ('NHSCAD3965.png6.png', 0), ('NHSCAD3965.png7.png', 0), ('NHSCAD3965.png8.png', 0), ('NHSCAD3965.png9.png', 0), ('NHSCAD3966.png1.png', 0), ('NHSCAD3966.png2.png', 0), ('NHSCAD3966.png3.png', 0), ('NHSCAD3966.png4.png', 0), ('NHSCAD3966.png6.png', 0), ('NHSCAD3966.png7.png', 0), ('NHSCAD3966.png8.png', 0), ('NHSCAD3966.png9.png', 0), ('NHSCAD3967.png1.png', 0), ('NHSCAD3967.png2.png', 0), ('NHSCAD3967.png3.png', 0), ('NHSCAD3967.png4.png', 0), ('NHSCAD3967.png6.png', 0), ('NHSCAD3967.png7.png', 0), ('NHSCAD3967.png8.png', 0), ('NHSCAD3967.png9.png', 0), ('NHSCAD3968.png1.png', 0), ('NHSCAD3968.png2.png', 0), ('NHSCAD3968.png3.png', 0), ('NHSCAD3968.png4.png', 0), ('NHSCAD3968.png6.png', 0), ('NHSCAD3968.png7.png', 0), ('NHSCAD3968.png8.png', 0), ('NHSCAD3968.png9.png', 0), ('NHSCAD3969.png1.png', 0), ('NHSCAD3969.png2.png', 0), ('NHSCAD3969.png3.png', 0), ('NHSCAD3969.png4.png', 0), ('NHSCAD3969.png6.png', 0), ('NHSCAD3969.png7.png', 0), ('NHSCAD3969.png8.png', 0), ('NHSCAD3969.png9.png', 0), ('NHSCAD397.png1.png', 0), ('NHSCAD397.png2.png', 0), ('NHSCAD397.png3.png', 0)]\n"
     ]
    }
   ],
   "source": [
    "path = 'group_prediction/'\n",
    "files = os.listdir(path)\n",
    "pos_examples = []\n",
    "neg_examples = []\n",
    "for fileName in files:\n",
    "    if fileName.startswith(\"HS\"):\n",
    "        pos_examples.append((fileName, 1))\n",
    "    else:\n",
    "        neg_examples.append((fileName, 0))\n",
    "\n",
    "test_img_count = len(files)        \n",
    "pos_count = len(pos_examples)\n",
    "neg_count = len(neg_examples)\n",
    "print(test_img_count, \"images are loaded, including\", pos_count, \"HS patterns and\", neg_count, \"NHS patterns.\")\n",
    "#print(pos_examples)\n",
    "#print(neg_examples)\n",
    "labeled_files = copy.deepcopy(pos_examples)\n",
    "labeled_files.extend(neg_examples)\n",
    "print(labeled_files)"
   ]
  },
  {
   "cell_type": "markdown",
   "metadata": {},
   "source": [
    "### Loop through images and calculate confusion matrix"
   ]
  },
  {
   "cell_type": "code",
   "execution_count": 127,
   "metadata": {},
   "outputs": [
    {
     "name": "stdout",
     "output_type": "stream",
     "text": [
      "1/1 [==============================] - 0s 14ms/step\n",
      "1/1 [==============================] - 0s 15ms/step\n",
      "1/1 [==============================] - 0s 17ms/step\n",
      "1/1 [==============================] - 0s 17ms/step\n",
      "1/1 [==============================] - 0s 14ms/step\n",
      "1/1 [==============================] - 0s 13ms/step\n",
      "1/1 [==============================] - 0s 12ms/step\n",
      "1/1 [==============================] - 0s 17ms/step\n",
      "1/1 [==============================] - 0s 16ms/step\n",
      "1/1 [==============================] - 0s 12ms/step\n",
      "1/1 [==============================] - 0s 16ms/step\n",
      "1/1 [==============================] - 0s 16ms/step\n",
      "1/1 [==============================] - 0s 15ms/step\n",
      "1/1 [==============================] - 0s 17ms/step\n",
      "1/1 [==============================] - 0s 16ms/step\n",
      "1/1 [==============================] - 0s 13ms/step\n",
      "1/1 [==============================] - 0s 16ms/step\n",
      "1/1 [==============================] - 0s 12ms/step\n",
      "1/1 [==============================] - 0s 16ms/step\n",
      "1/1 [==============================] - 0s 13ms/step\n",
      "1/1 [==============================] - 0s 12ms/step\n",
      "1/1 [==============================] - 0s 14ms/step\n",
      "1/1 [==============================] - 0s 16ms/step\n",
      "1/1 [==============================] - 0s 17ms/step\n",
      "1/1 [==============================] - 0s 13ms/step\n",
      "1/1 [==============================] - 0s 17ms/step\n",
      "1/1 [==============================] - 0s 18ms/step\n",
      "1/1 [==============================] - 0s 13ms/step\n",
      "1/1 [==============================] - 0s 17ms/step\n",
      "1/1 [==============================] - 0s 17ms/step\n",
      "1/1 [==============================] - 0s 17ms/step\n",
      "1/1 [==============================] - 0s 13ms/step\n",
      "1/1 [==============================] - 0s 15ms/step\n",
      "1/1 [==============================] - 0s 13ms/step\n",
      "1/1 [==============================] - 0s 16ms/step\n",
      "1/1 [==============================] - 0s 12ms/step\n",
      "1/1 [==============================] - 0s 12ms/step\n",
      "1/1 [==============================] - 0s 11ms/step\n",
      "1/1 [==============================] - 0s 13ms/step\n",
      "1/1 [==============================] - 0s 11ms/step\n",
      "1/1 [==============================] - 0s 17ms/step\n",
      "1/1 [==============================] - 0s 14ms/step\n",
      "1/1 [==============================] - 0s 18ms/step\n",
      "1/1 [==============================] - 0s 17ms/step\n",
      "1/1 [==============================] - 0s 19ms/step\n",
      "1/1 [==============================] - 0s 12ms/step\n",
      "1/1 [==============================] - 0s 17ms/step\n",
      "1/1 [==============================] - 0s 18ms/step\n",
      "1/1 [==============================] - 0s 17ms/step\n",
      "1/1 [==============================] - 0s 17ms/step\n",
      "1/1 [==============================] - 0s 14ms/step\n",
      "1/1 [==============================] - 0s 17ms/step\n",
      "1/1 [==============================] - 0s 13ms/step\n",
      "1/1 [==============================] - 0s 18ms/step\n",
      "1/1 [==============================] - 0s 17ms/step\n",
      "1/1 [==============================] - 0s 13ms/step\n",
      "1/1 [==============================] - 0s 13ms/step\n",
      "1/1 [==============================] - 0s 13ms/step\n",
      "1/1 [==============================] - 0s 16ms/step\n",
      "1/1 [==============================] - 0s 13ms/step\n",
      "1/1 [==============================] - 0s 14ms/step\n",
      "1/1 [==============================] - 0s 13ms/step\n",
      "1/1 [==============================] - 0s 13ms/step\n",
      "1/1 [==============================] - 0s 17ms/step\n",
      "1/1 [==============================] - 0s 17ms/step\n",
      "1/1 [==============================] - 0s 15ms/step\n",
      "1/1 [==============================] - 0s 17ms/step\n",
      "1/1 [==============================] - 0s 12ms/step\n",
      "1/1 [==============================] - 0s 17ms/step\n",
      "1/1 [==============================] - 0s 17ms/step\n",
      "1/1 [==============================] - 0s 13ms/step\n",
      "1/1 [==============================] - 0s 17ms/step\n",
      "1/1 [==============================] - 0s 18ms/step\n",
      "1/1 [==============================] - 0s 18ms/step\n",
      "1/1 [==============================] - 0s 13ms/step\n",
      "1/1 [==============================] - 0s 15ms/step\n",
      "1/1 [==============================] - 0s 16ms/step\n",
      "1/1 [==============================] - 0s 15ms/step\n",
      "1/1 [==============================] - 0s 14ms/step\n",
      "1/1 [==============================] - 0s 16ms/step\n",
      "1/1 [==============================] - 0s 12ms/step\n",
      "1/1 [==============================] - 0s 16ms/step\n",
      "1/1 [==============================] - 0s 12ms/step\n",
      "1/1 [==============================] - 0s 17ms/step\n",
      "1/1 [==============================] - 0s 16ms/step\n",
      "1/1 [==============================] - 0s 12ms/step\n",
      "1/1 [==============================] - 0s 17ms/step\n",
      "1/1 [==============================] - 0s 13ms/step\n",
      "1/1 [==============================] - 0s 16ms/step\n",
      "1/1 [==============================] - 0s 16ms/step\n",
      "1/1 [==============================] - 0s 15ms/step\n",
      "1/1 [==============================] - 0s 17ms/step\n",
      "1/1 [==============================] - 0s 17ms/step\n",
      "1/1 [==============================] - 0s 16ms/step\n",
      "1/1 [==============================] - 0s 16ms/step\n",
      "1/1 [==============================] - 0s 12ms/step\n",
      "1/1 [==============================] - 0s 16ms/step\n",
      "1/1 [==============================] - 0s 16ms/step\n",
      "1/1 [==============================] - 0s 16ms/step\n",
      "1/1 [==============================] - 0s 14ms/step\n",
      "1/1 [==============================] - 0s 14ms/step\n",
      "1/1 [==============================] - 0s 12ms/step\n",
      "1/1 [==============================] - 0s 16ms/step\n",
      "1/1 [==============================] - 0s 15ms/step\n",
      "1/1 [==============================] - 0s 16ms/step\n",
      "1/1 [==============================] - 0s 15ms/step\n",
      "1/1 [==============================] - 0s 13ms/step\n",
      "1/1 [==============================] - 0s 17ms/step\n",
      "1/1 [==============================] - 0s 16ms/step\n",
      "1/1 [==============================] - 0s 15ms/step\n",
      "1/1 [==============================] - 0s 15ms/step\n",
      "1/1 [==============================] - 0s 12ms/step\n",
      "1/1 [==============================] - 0s 16ms/step\n",
      "1/1 [==============================] - 0s 16ms/step\n",
      "1/1 [==============================] - 0s 15ms/step\n",
      "1/1 [==============================] - 0s 16ms/step\n",
      "1/1 [==============================] - 0s 13ms/step\n",
      "1/1 [==============================] - 0s 16ms/step\n",
      "1/1 [==============================] - 0s 13ms/step\n",
      "1/1 [==============================] - 0s 12ms/step\n",
      "1/1 [==============================] - 0s 12ms/step\n",
      "1/1 [==============================] - 0s 17ms/step\n",
      "1/1 [==============================] - 0s 14ms/step\n",
      "1/1 [==============================] - 0s 17ms/step\n",
      "1/1 [==============================] - 0s 13ms/step\n",
      "1/1 [==============================] - 0s 18ms/step\n",
      "1/1 [==============================] - 0s 18ms/step\n",
      "1/1 [==============================] - 0s 15ms/step\n",
      "1/1 [==============================] - 0s 13ms/step\n",
      "1/1 [==============================] - 0s 13ms/step\n",
      "1/1 [==============================] - 0s 14ms/step\n",
      "1/1 [==============================] - 0s 15ms/step\n",
      "1/1 [==============================] - 0s 13ms/step\n",
      "1/1 [==============================] - 0s 17ms/step\n",
      "1/1 [==============================] - 0s 14ms/step\n",
      "1/1 [==============================] - 0s 17ms/step\n",
      "1/1 [==============================] - 0s 15ms/step\n",
      "1/1 [==============================] - 0s 14ms/step\n",
      "1/1 [==============================] - 0s 14ms/step\n",
      "1/1 [==============================] - 0s 17ms/step\n",
      "1/1 [==============================] - 0s 17ms/step\n",
      "1/1 [==============================] - 0s 13ms/step\n",
      "1/1 [==============================] - 0s 12ms/step\n",
      "1/1 [==============================] - 0s 17ms/step\n",
      "1/1 [==============================] - 0s 17ms/step\n",
      "1/1 [==============================] - 0s 13ms/step\n",
      "1/1 [==============================] - 0s 13ms/step\n",
      "1/1 [==============================] - 0s 14ms/step\n",
      "1/1 [==============================] - 0s 17ms/step\n",
      "1/1 [==============================] - 0s 16ms/step\n",
      "1/1 [==============================] - 0s 16ms/step\n",
      "1/1 [==============================] - 0s 13ms/step\n",
      "1/1 [==============================] - 0s 13ms/step\n",
      "1/1 [==============================] - 0s 13ms/step\n",
      "1/1 [==============================] - 0s 11ms/step\n",
      "1/1 [==============================] - 0s 13ms/step\n",
      "1/1 [==============================] - 0s 13ms/step\n",
      "1/1 [==============================] - 0s 16ms/step\n",
      "1/1 [==============================] - 0s 12ms/step\n",
      "1/1 [==============================] - 0s 13ms/step\n",
      "1/1 [==============================] - 0s 14ms/step\n",
      "1/1 [==============================] - 0s 16ms/step\n",
      "1/1 [==============================] - 0s 13ms/step\n",
      "1/1 [==============================] - 0s 17ms/step\n",
      "1/1 [==============================] - 0s 14ms/step\n",
      "1/1 [==============================] - 0s 12ms/step\n",
      "1/1 [==============================] - 0s 17ms/step\n",
      "1/1 [==============================] - 0s 12ms/step\n",
      "1/1 [==============================] - 0s 16ms/step\n",
      "1/1 [==============================] - 0s 16ms/step\n",
      "1/1 [==============================] - 0s 16ms/step\n",
      "1/1 [==============================] - 0s 15ms/step\n",
      "1/1 [==============================] - 0s 16ms/step\n",
      "1/1 [==============================] - 0s 17ms/step\n",
      "1/1 [==============================] - 0s 14ms/step\n",
      "1/1 [==============================] - 0s 14ms/step\n",
      "1/1 [==============================] - 0s 15ms/step\n",
      "1/1 [==============================] - 0s 12ms/step\n",
      "1/1 [==============================] - 0s 15ms/step\n",
      "1/1 [==============================] - 0s 17ms/step\n",
      "1/1 [==============================] - 0s 12ms/step\n",
      "1/1 [==============================] - 0s 12ms/step\n",
      "1/1 [==============================] - 0s 13ms/step\n",
      "1/1 [==============================] - 0s 16ms/step\n",
      "1/1 [==============================] - 0s 16ms/step\n",
      "1/1 [==============================] - 0s 16ms/step\n",
      "1/1 [==============================] - 0s 13ms/step\n",
      "1/1 [==============================] - 0s 18ms/step\n",
      "1/1 [==============================] - 0s 13ms/step\n",
      "1/1 [==============================] - 0s 17ms/step\n",
      "1/1 [==============================] - 0s 15ms/step\n",
      "1/1 [==============================] - 0s 17ms/step\n",
      "1/1 [==============================] - 0s 16ms/step\n",
      "1/1 [==============================] - 0s 11ms/step\n",
      "1/1 [==============================] - 0s 13ms/step\n",
      "1/1 [==============================] - 0s 15ms/step\n",
      "1/1 [==============================] - 0s 16ms/step\n",
      "1/1 [==============================] - 0s 14ms/step\n",
      "1/1 [==============================] - 0s 18ms/step\n",
      "1/1 [==============================] - 0s 13ms/step\n"
     ]
    }
   ],
   "source": [
    "def group_predict(labeled_files, path):\n",
    "    TP = 0\n",
    "    TN = 0\n",
    "    FP = 0\n",
    "    FN = 0\n",
    "    for labeled_file in labeled_files:\n",
    "        img_path = path + labeled_file[0]\n",
    "        test_image = image.load_img(img_path, target_size = (SIZE, SIZE))\n",
    "        test_image = image.img_to_array(test_image)\n",
    "        test_image = np.expand_dims(test_image, axis = 0)\n",
    "        result = cnn.predict(test_image/255.0)\n",
    "        #print(result)\n",
    "        training_set.class_indices\n",
    "        if result[0][0] > 0.5:\n",
    "          prediction = 1\n",
    "        else:\n",
    "          prediction = 0\n",
    "        \n",
    "        if labeled_file[1] == 1 and prediction == 1:\n",
    "            TP += 1\n",
    "        elif labeled_file[1] == 0 and prediction == 0:\n",
    "            TN += 1\n",
    "        elif labeled_file[1] == 1 and prediction == 0:\n",
    "            FN += 1\n",
    "        elif labeled_file[1] == 0 and prediction == 1:\n",
    "            FP += 1\n",
    "        \n",
    "    return (TP, TN, FP, FN)\n",
    "    \n",
    "        \n",
    "(TP, TN, FP, FN) = group_predict(labeled_files, path)"
   ]
  },
  {
   "cell_type": "markdown",
   "metadata": {},
   "source": [
    "### Calculate metrics"
   ]
  },
  {
   "cell_type": "code",
   "execution_count": 130,
   "metadata": {},
   "outputs": [
    {
     "name": "stdout",
     "output_type": "stream",
     "text": [
      "99 23 77 1\n",
      "0.61 0.99 0.5625 0.717391304347826\n"
     ]
    }
   ],
   "source": [
    "accuracy = (TP + TN) / (TP + TN + FP + FN)\n",
    "precision = TP / (TP + FP)\n",
    "recall = TP / (TP + FN)\n",
    "F1_score = 2 * precision * recall / (precision + recall)\n",
    "print(TP, TN, FP, FN)\n",
    "print(accuracy, recall, precision, F1_score)"
   ]
  },
  {
   "cell_type": "markdown",
   "metadata": {},
   "source": [
    "###  Plot precision-recall performance and compare with other researchers' work"
   ]
  },
  {
   "cell_type": "code",
   "execution_count": 159,
   "metadata": {},
   "outputs": [
    {
     "data": {
      "image/png": "[encoded data removed]",
      "text/plain": [
       "<Figure size 720x432 with 1 Axes>"
      ]
     },
     "metadata": {
      "needs_background": "light"
     },
     "output_type": "display_data"
    }
   ],
   "source": [
    "# Values from previous researchers \n",
    "# Shin, M.; Lee, J.-H. Accurate Lithography Hotspot Detection Using Deep Convolutional Neural Networks. J. Micro/Nanolith.\n",
    "# MEMS MOEMS 2016, 15, 043507.\n",
    "# Zhou, K.; Zhang, K.; Liu, J.; Liu, Y.; Liu, S.; Cao, G.; Zhu, J. An Imbalance Aware Lithography Hotspot Detection Method Based\n",
    "# on HDAM and Pre-trained GoogLeNet. Meas. Sci. Technol. 2021, 32, 125008.\n",
    "# Liao, L.; Li, S.; Che, Y.; Shi, W.;Wang, X. Lithography Hotspot Detection Method Based on Transfer Learning Using Pre-Trained\n",
    "# Deep Convolutional Neural Network. Appl. Sci. 2022, 12, 2192. https://doi.org/10.3390/app12042192\n",
    "\n",
    "Shin_recall = [0.951, 0.988, 0.975, 0.938, 0.927]\n",
    "Shin_precision = [0.358, 0.216, 0.199, 0.157, 0.181]\n",
    "Zhou_recall = [0.995, 0.986, 0.982, 0.972, 0.980]\n",
    "Zhou_precision = [0.324, 0.702, 0.443, 0.355, 0.549]\n",
    "Liao_recall = [0.947, 0.988, 0.988, 0.937, 1.000]\n",
    "Liao_precision = [0.968, 0.850, 0.967, 0.913, 0.737]\n",
    "\n",
    "dia = 100\n",
    "colors = ['black','green','blue','red']\n",
    "markers = ['o', '^', 's', 'P']\n",
    "fig, ax = plt.subplots(nrows = 1, ncols = 1, figsize = (10, 6))\n",
    "ax.scatter(Shin_recall, Shin_precision, label='Shin (2016)', c = colors[0], s = dia, marker = markers[0])\n",
    "ax.scatter(Zhou_recall, Zhou_precision, label='Zhou (2021)', c = colors[1], s = dia, marker = markers[1])\n",
    "ax.scatter(Liao_recall, Liao_precision, label='Liao (2022)', c = colors[2], s = dia, marker = markers[2])\n",
    "ax.scatter(recall, precision, label='Our Model', c = colors[3], s = 4 * dia, marker = markers[3])\n",
    "\n",
    "ax.set_xlim([0.9, 1])\n",
    "ax.set_ylim([0, 1])\n",
    "\n",
    "fsize = 20\n",
    "ax.set_xlabel('Recall', fontsize = fsize)\n",
    "ax.set_ylabel('Precision', fontsize = fsize)\n",
    "ax.set_title('Precision-Recall Performance', fontsize = fsize)\n",
    "ax.spines['top'].set_visible(False)\n",
    "ax.spines['right'].set_visible(False)\n",
    "plt.legend(fontsize = fsize-4)\n",
    "plt.show()"
   ]
  },
  {
   "cell_type": "code",
   "execution_count": null,
   "metadata": {},
   "outputs": [],
   "source": []
  }
 ],
 "metadata": {
  "colab": {
   "collapsed_sections": [],
   "name": "convolutional_neural_network.ipynb",
   "provenance": [],
   "toc_visible": true
  },
  "kernelspec": {
   "display_name": "Python 3 (ipykernel)",
   "language": "python",
   "name": "python3"
  },
  "language_info": {
   "codemirror_mode": {
    "name": "ipython",
    "version": 3
   },
   "file_extension": ".py",
   "mimetype": "text/x-python",
   "name": "python",
   "nbconvert_exporter": "python",
   "pygments_lexer": "ipython3",
   "version": "3.9.12"
  }
 },
 "nbformat": 4,
 "nbformat_minor": 1
}
